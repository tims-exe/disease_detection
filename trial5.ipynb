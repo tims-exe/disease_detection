{
 "cells": [
  {
   "cell_type": "code",
   "execution_count": 1,
   "id": "141b52dc-5eaa-4a0d-b398-3be70533856b",
   "metadata": {},
   "outputs": [],
   "source": [
    "import os\n",
    "import cv2\n",
    "import matplotlib.pyplot as plt\n",
    "import numpy as np\n",
    "from sklearn.model_selection import train_test_split\n",
    "import plotly.express as px\n",
    "\n",
    "from tensorflow.keras.models import Sequential\n",
    "from tensorflow.keras.layers import Conv2D, MaxPooling2D, Flatten, Dense, Dropout, Input\n",
    "from tensorflow.keras.utils import to_categorical\n",
    "from tensorflow.keras.preprocessing import image\n"
   ]
  },
  {
   "cell_type": "code",
   "execution_count": 2,
   "id": "2af99f2f-0cc1-419f-8e0f-8d009a8a60c9",
   "metadata": {},
   "outputs": [],
   "source": [
    "# dataset file path\n",
    "\n",
    "malignant_files = \"dataset/trial/Malignant\"\n",
    "normal_files = \"dataset/trial/Normal\""
   ]
  },
  {
   "cell_type": "code",
   "execution_count": 3,
   "id": "b934fd80-8ab4-4414-bb10-5fbbfe0d6160",
   "metadata": {},
   "outputs": [],
   "source": [
    "# function to load the images from the directories\n",
    "\n",
    "def load_images(directory, label):\n",
    "  images = []\n",
    "  labels = []\n",
    "  for filename in os.listdir(directory):\n",
    "    if filename.endswith(\".jpg\") or filename.endswith(\".png\"):\n",
    "      img_path = os.path.join(directory, filename)\n",
    "      img = cv2.imread(img_path, cv2.IMREAD_GRAYSCALE)\n",
    "      if img is not None:\n",
    "        img = cv2.resize(img, (128, 128))\n",
    "        images.append(img)\n",
    "        labels.append(label)\n",
    "  return images, labels"
   ]
  },
  {
   "cell_type": "code",
   "execution_count": 4,
   "id": "5185b6f0-4976-4125-80d7-fb40b77ad2be",
   "metadata": {},
   "outputs": [],
   "source": [
    "# normal = 0\n",
    "# malignant = 1\n",
    "\n",
    "malignant_images, malignant_labels = load_images(malignant_files, label=1)\n",
    "normal_images, normal_labels = load_images(normal_files, label=0)"
   ]
  },
  {
   "cell_type": "code",
   "execution_count": 5,
   "id": "03ee158a-1a53-4d50-ae5b-88d02b42972a",
   "metadata": {},
   "outputs": [],
   "source": [
    "images = malignant_images + normal_images\n",
    "labels = malignant_labels + normal_labels"
   ]
  },
  {
   "cell_type": "code",
   "execution_count": 6,
   "id": "aa0555bd-6a8c-4e8b-aa36-2db3e20ed6da",
   "metadata": {},
   "outputs": [
    {
     "name": "stdout",
     "output_type": "stream",
     "text": [
      "971\n"
     ]
    }
   ],
   "source": [
    "images = np.array(images)\n",
    "labels = np.array(labels)\n",
    "\n",
    "\n",
    "print(len(images))"
   ]
  },
  {
   "cell_type": "code",
   "execution_count": 7,
   "id": "0727669a-bdf1-4e2e-9610-a51350eb9779",
   "metadata": {},
   "outputs": [],
   "source": [
    "x_train, x_test, y_train, y_test = train_test_split(images, labels, test_size=0.2, random_state=42)"
   ]
  },
  {
   "cell_type": "code",
   "execution_count": 8,
   "id": "8676b9fe-e122-47b7-8b39-de23ef5118ae",
   "metadata": {},
   "outputs": [],
   "source": [
    "categories = {\n",
    "    \"Malignant\": malignant_files,\n",
    "    \"Normal\": normal_files\n",
    "}"
   ]
  },
  {
   "cell_type": "code",
   "execution_count": 9,
   "id": "feba592a-e3e7-454e-9243-b5291219f243",
   "metadata": {},
   "outputs": [
    {
     "name": "stdout",
     "output_type": "stream",
     "text": [
      "Epoch 1/10\n",
      "\u001b[1m20/20\u001b[0m \u001b[32m━━━━━━━━━━━━━━━━━━━━\u001b[0m\u001b[37m\u001b[0m \u001b[1m6s\u001b[0m 171ms/step - accuracy: 0.4930 - loss: 1099.2683 - val_accuracy: 0.6667 - val_loss: 25.8748\n",
      "Epoch 2/10\n",
      "\u001b[1m20/20\u001b[0m \u001b[32m━━━━━━━━━━━━━━━━━━━━\u001b[0m\u001b[37m\u001b[0m \u001b[1m3s\u001b[0m 134ms/step - accuracy: 0.4984 - loss: 776.8760 - val_accuracy: 0.6474 - val_loss: 48.0157\n",
      "Epoch 3/10\n",
      "\u001b[1m20/20\u001b[0m \u001b[32m━━━━━━━━━━━━━━━━━━━━\u001b[0m\u001b[37m\u001b[0m \u001b[1m3s\u001b[0m 131ms/step - accuracy: 0.6011 - loss: 281.2659 - val_accuracy: 0.6795 - val_loss: 42.7831\n",
      "Epoch 4/10\n",
      "\u001b[1m20/20\u001b[0m \u001b[32m━━━━━━━━━━━━━━━━━━━━\u001b[0m\u001b[37m\u001b[0m \u001b[1m3s\u001b[0m 128ms/step - accuracy: 0.6366 - loss: 127.9246 - val_accuracy: 0.7308 - val_loss: 17.5068\n",
      "Epoch 5/10\n",
      "\u001b[1m20/20\u001b[0m \u001b[32m━━━━━━━━━━━━━━━━━━━━\u001b[0m\u001b[37m\u001b[0m \u001b[1m3s\u001b[0m 135ms/step - accuracy: 0.6570 - loss: 71.6951 - val_accuracy: 0.8141 - val_loss: 8.6994\n",
      "Epoch 6/10\n",
      "\u001b[1m20/20\u001b[0m \u001b[32m━━━━━━━━━━━━━━━━━━━━\u001b[0m\u001b[37m\u001b[0m \u001b[1m3s\u001b[0m 128ms/step - accuracy: 0.7052 - loss: 33.9512 - val_accuracy: 0.7115 - val_loss: 27.0233\n",
      "Epoch 7/10\n",
      "\u001b[1m20/20\u001b[0m \u001b[32m━━━━━━━━━━━━━━━━━━━━\u001b[0m\u001b[37m\u001b[0m \u001b[1m3s\u001b[0m 126ms/step - accuracy: 0.6557 - loss: 33.5500 - val_accuracy: 0.8205 - val_loss: 0.6191\n",
      "Epoch 8/10\n",
      "\u001b[1m20/20\u001b[0m \u001b[32m━━━━━━━━━━━━━━━━━━━━\u001b[0m\u001b[37m\u001b[0m \u001b[1m3s\u001b[0m 126ms/step - accuracy: 0.6719 - loss: 2.8875 - val_accuracy: 0.6154 - val_loss: 0.7335\n",
      "Epoch 9/10\n",
      "\u001b[1m20/20\u001b[0m \u001b[32m━━━━━━━━━━━━━━━━━━━━\u001b[0m\u001b[37m\u001b[0m \u001b[1m3s\u001b[0m 128ms/step - accuracy: 0.5267 - loss: 1.4027 - val_accuracy: 0.5256 - val_loss: 0.5948\n",
      "Epoch 10/10\n",
      "\u001b[1m20/20\u001b[0m \u001b[32m━━━━━━━━━━━━━━━━━━━━\u001b[0m\u001b[37m\u001b[0m \u001b[1m3s\u001b[0m 130ms/step - accuracy: 0.5365 - loss: 0.6288 - val_accuracy: 0.6218 - val_loss: 0.6013\n"
     ]
    }
   ],
   "source": [
    "# Model Architecture\n",
    "model = Sequential([\n",
    "    Input(shape=(128*128,)),  # Flattened input shape (128x128 grayscale image)\n",
    "\n",
    "    # Fully Connected Layers\n",
    "    Dense(512, activation='relu'),\n",
    "    Dropout(0.3),\n",
    "    Dense(256, activation='relu'),\n",
    "    Dropout(0.3),\n",
    "    Dense(128, activation='relu'),\n",
    "    Dropout(0.3),\n",
    "\n",
    "    # Output Layer\n",
    "    Dense(2, activation='softmax')\n",
    "])\n",
    "\n",
    "# Compile the Model\n",
    "model.compile(optimizer='adam', loss='categorical_crossentropy', metrics=['accuracy'])\n",
    "\n",
    "# Convert images to 1D array and one-hot encode labels\n",
    "x_train_flattened = x_train.reshape(-1, 128*128)\n",
    "x_test_flattened = x_test.reshape(-1, 128*128)\n",
    "y_train_encoded = to_categorical(y_train, num_classes=2)\n",
    "y_test_encoded = to_categorical(y_test, num_classes=2)\n",
    "\n",
    "# Train the Model with validation split\n",
    "history = model.fit(\n",
    "    x_train_flattened, y_train_encoded,  # Training data\n",
    "    epochs=10,\n",
    "    batch_size=32,\n",
    "    validation_split=0.2  # Use 20% of the training data for validation\n",
    ")\n"
   ]
  },
  {
   "cell_type": "code",
   "execution_count": 12,
   "id": "e9ad16dd-dd57-4438-81a6-5aee71f63138",
   "metadata": {},
   "outputs": [
    {
     "name": "stdout",
     "output_type": "stream",
     "text": [
      "\u001b[1m7/7\u001b[0m \u001b[32m━━━━━━━━━━━━━━━━━━━━\u001b[0m\u001b[37m\u001b[0m \u001b[1m0s\u001b[0m 13ms/step - accuracy: 0.5898 - loss: 0.6237\n",
      "Model Accuracy = 57.94872045516968\n"
     ]
    }
   ],
   "source": [
    "y_test_encoded = to_categorical(y_test, num_classes=2)\n",
    "# Reshape x_test to match the input shape expected by the model\n",
    "x_test_flattened = x_test.reshape(-1, 128*128)\n",
    "x_test_flattened = x_test_flattened.astype('float32')\n",
    "\n",
    "test_loss, test_acc = model.evaluate(x_test_flattened, y_test_encoded)\n",
    "#print(f'Test Loss: {test_loss}')\n",
    "#print(f'Test Accuracy: {test_acc}')\n",
    "\n",
    "print(\"Model Accuracy =\",test_acc*100)"
   ]
  },
  {
   "cell_type": "code",
   "execution_count": null,
   "id": "554a0d6f-c9bd-457d-86c2-e5ccd27b1d45",
   "metadata": {},
   "outputs": [],
   "source": []
  }
 ],
 "metadata": {
  "kernelspec": {
   "display_name": "Python 3 (ipykernel)",
   "language": "python",
   "name": "python3"
  },
  "language_info": {
   "codemirror_mode": {
    "name": "ipython",
    "version": 3
   },
   "file_extension": ".py",
   "mimetype": "text/x-python",
   "name": "python",
   "nbconvert_exporter": "python",
   "pygments_lexer": "ipython3",
   "version": "3.12.4"
  }
 },
 "nbformat": 4,
 "nbformat_minor": 5
}
